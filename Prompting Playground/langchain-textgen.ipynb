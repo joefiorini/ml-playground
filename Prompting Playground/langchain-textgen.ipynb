{
 "cells": [
  {
   "cell_type": "code",
   "execution_count": 17,
   "metadata": {},
   "outputs": [
    {
     "name": "stdout",
     "output_type": "stream",
     "text": [
      "\u001b[32;1m\u001b[1;3m[chain/start]\u001b[0m \u001b[1m[1:chain:LLMChain] Entering Chain run with input:\n",
      "\u001b[0m{\n",
      "  \"question\": \"Question: What NFL team won super bowl the year Justin Bieber was born?\"\n",
      "}\n",
      "\u001b[32;1m\u001b[1;3m[llm/start]\u001b[0m \u001b[1m[1:chain:LLMChain > 2:llm:TextGen] Entering LLM run with input:\n",
      "\u001b[0m{\n",
      "  \"prompts\": [\n",
      "    \"Question: Question: What NFL team won super bowl the year Justin Bieber was born?\\n\\nAnswer: Let's think step by step.\"\n",
      "  ]\n",
      "}\n",
      "\n",
      "Question: Question: What NFL team won super bowl the year Justin Bieber was born?\n",
      "\n",
      "Answer: Let's think step by step. The first Super Bowl of Justin Bieber's lifetime took place in February 2016, so we need to find out which teams played that game and who won it. In fact, the Denver Broncos defeated the Carolina Panthers in Super Bowl 50 on February 7th, 2016 at Levi's Stadium in Santa Clara, California. So, the answer is the Denver Broncos!\n",
      "\u001b[36;1m\u001b[1;3m[llm/end]\u001b[0m \u001b[1m[1:chain:LLMChain > 2:llm:TextGen] [3.62s] Exiting LLM run with output:\n",
      "\u001b[0m{\n",
      "  \"generations\": [\n",
      "    [\n",
      "      {\n",
      "        \"text\": \" The first Super Bowl of Justin Bieber's lifetime took place in February 2016, so we need to find out which teams played that game and who won it. In fact, the Denver Broncos defeated the Carolina Panthers in Super Bowl 50 on February 7th, 2016 at Levi's Stadium in Santa Clara, California. So, the answer is the Denver Broncos!\",\n",
      "        \"generation_info\": null\n",
      "      }\n",
      "    ]\n",
      "  ],\n",
      "  \"llm_output\": null,\n",
      "  \"run\": null\n",
      "}\n",
      "\u001b[36;1m\u001b[1;3m[chain/end]\u001b[0m \u001b[1m[1:chain:LLMChain] [3.63s] Exiting Chain run with output:\n",
      "\u001b[0m{\n",
      "  \"text\": \" The first Super Bowl of Justin Bieber's lifetime took place in February 2016, so we need to find out which teams played that game and who won it. In fact, the Denver Broncos defeated the Carolina Panthers in Super Bowl 50 on February 7th, 2016 at Levi's Stadium in Santa Clara, California. So, the answer is the Denver Broncos!\"\n",
      "}\n"
     ]
    },
    {
     "data": {
      "text/plain": [
       "\" The first Super Bowl of Justin Bieber's lifetime took place in February 2016, so we need to find out which teams played that game and who won it. In fact, the Denver Broncos defeated the Carolina Panthers in Super Bowl 50 on February 7th, 2016 at Levi's Stadium in Santa Clara, California. So, the answer is the Denver Broncos!\""
      ]
     },
     "execution_count": 17,
     "metadata": {},
     "output_type": "execute_result"
    }
   ],
   "source": [
    "model_url = \"http://192.168.1.237:8003\"\n",
    "\n",
    "import langchain\n",
    "from langchain import PromptTemplate, LLMChain\n",
    "from langchain.llms import TextGen\n",
    "\n",
    "langchain.debug = True\n",
    "\n",
    "template = \"\"\"\n",
    "Question: {question}\n",
    "\n",
    "Answer: Let's think step by step.\"\"\"\n",
    "\n",
    "\n",
    "prompt = PromptTemplate(template=template, input_variables=[\"question\"])\n",
    "llm = TextGen(model_url=model_url)\n",
    "llm_chain = LLMChain(prompt=prompt, llm=llm)\n",
    "\n",
    "question = \"Question: What NFL team won super bowl the year Justin Bieber was born?\"\n",
    "\n",
    "# It gets this wrong every time. Try giving it who won the super bowl in 1994 (Cowboys over Bills 30-13) then asking it.\n",
    "\n",
    "llm_chain.run(question=question)"
   ]
  }
 ],
 "metadata": {
  "kernelspec": {
   "display_name": "openai-playground",
   "language": "python",
   "name": "openai-playground"
  },
  "orig_nbformat": 4
 },
 "nbformat": 4,
 "nbformat_minor": 2
}
