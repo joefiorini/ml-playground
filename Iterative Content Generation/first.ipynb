{
 "cells": [
  {
   "cell_type": "code",
   "execution_count": 1,
   "metadata": {},
   "outputs": [
    {
     "name": "stdout",
     "output_type": "stream",
     "text": [
      "Requirement already satisfied: openai in /opt/conda/lib/python3.10/site-packages (0.27.8)\n",
      "Requirement already satisfied: requests>=2.20 in /opt/conda/lib/python3.10/site-packages (from openai) (2.31.0)\n",
      "Requirement already satisfied: tqdm in /opt/conda/lib/python3.10/site-packages (from openai) (4.65.0)\n",
      "Requirement already satisfied: aiohttp in /opt/conda/lib/python3.10/site-packages (from openai) (3.8.4)\n",
      "Requirement already satisfied: charset-normalizer<4,>=2 in /opt/conda/lib/python3.10/site-packages (from requests>=2.20->openai) (3.1.0)\n",
      "Requirement already satisfied: idna<4,>=2.5 in /opt/conda/lib/python3.10/site-packages (from requests>=2.20->openai) (3.4)\n",
      "Requirement already satisfied: urllib3<3,>=1.21.1 in /opt/conda/lib/python3.10/site-packages (from requests>=2.20->openai) (1.26.16)\n",
      "Requirement already satisfied: certifi>=2017.4.17 in /opt/conda/lib/python3.10/site-packages (from requests>=2.20->openai) (2023.5.7)\n",
      "Requirement already satisfied: attrs>=17.3.0 in /opt/conda/lib/python3.10/site-packages (from aiohttp->openai) (23.1.0)\n",
      "Requirement already satisfied: multidict<7.0,>=4.5 in /opt/conda/lib/python3.10/site-packages (from aiohttp->openai) (6.0.4)\n",
      "Requirement already satisfied: async-timeout<5.0,>=4.0.0a3 in /opt/conda/lib/python3.10/site-packages (from aiohttp->openai) (4.0.2)\n",
      "Requirement already satisfied: yarl<2.0,>=1.0 in /opt/conda/lib/python3.10/site-packages (from aiohttp->openai) (1.9.2)\n",
      "Requirement already satisfied: frozenlist>=1.1.1 in /opt/conda/lib/python3.10/site-packages (from aiohttp->openai) (1.3.3)\n",
      "Requirement already satisfied: aiosignal>=1.1.2 in /opt/conda/lib/python3.10/site-packages (from aiohttp->openai) (1.3.1)\n",
      "Note: you may need to restart the kernel to use updated packages.\n"
     ]
    }
   ],
   "source": [
    "# %%python3 -m ipykernel install --user --name=openai-playground\n",
    "\n",
    "%pip install openai"
   ]
  },
  {
   "cell_type": "code",
   "execution_count": 2,
   "metadata": {},
   "outputs": [
    {
     "name": "stdout",
     "output_type": "stream",
     "text": [
      "Hello my friend. I am a robot. My name is Bob. I am a robot. I am a \n",
      "      robot said Bob. Sue said Bob. Bob said Sue. Bob\n"
     ]
    }
   ],
   "source": [
    "s = f\"\"\"{(f\"Hello my friend. I am \"\n",
    "      f\"a robot. My name is Bob. \"\n",
    "      f\"I am a robot. I am a \")}\n",
    "      {(f\"robot said Bob. Sue said \"\n",
    "       f\"Bob. Bob said Sue. Bob\")}\"\"\"\n",
    "\n",
    "print(s)"
   ]
  },
  {
   "cell_type": "code",
   "execution_count": 3,
   "metadata": {},
   "outputs": [
    {
     "name": "stdout",
     "output_type": "stream",
     "text": [
      "{\n",
      "  \"id\": \"chatcmpl-7dIgJBGsnuYajFSK6pOVZwDPCFFAD\",\n",
      "  \"object\": \"chat.completion\",\n",
      "  \"created\": 1689600959,\n",
      "  \"model\": \"gpt-3.5-turbo-16k-0613\",\n",
      "  \"choices\": [\n",
      "    {\n",
      "      \"index\": 0,\n",
      "      \"message\": {\n",
      "        \"role\": \"assistant\",\n",
      "        \"content\": \"Once upon a time in the enchanted forest, there lived a bear named Bumbles. Bumbles was not an ordinary bear; he had a mischievous and playful spirit. While the other animals in the forest spent their days engaged in serious tasks, Bumbles roamed freely, seeking adventure and fun.\\n\\nIn the beginning of our story, Bumbles stumbled upon a magical hat. Little did he know, this hat was no ordinary hat. When placed upon his head, it granted him the ability to communicate with other animals. Excited by this newfound power, Bumbles decided to use his gift to bring joy and laughter to everyone in the forest.\\n\\nAs Bumbles embarked on his misadventures, the middle of the story unfolded with comedic escapades. He approached a group of squirrels, trying to engage them in a game of acorn toss. However, the squirrels, taken aback by a talking bear, scampered away, leaving Bumbles in fits of laughter.\\n\\nUndeterred, Bumbles approached a wise old owl, seeking its advice on how to spread laughter among the animals. The owl, with its sagely wisdom, suggested that Bumbles organize an all-animal talent show. Excitedly, Bumbles set to work, hopping from tree to tree, inviting everyone to participate.\\n\\nThe day of the talent show arrived, and the forest was buzzing with anticipation. Animals from far and wide gathered, each showcasing their unique talents. Birds chirped a synchronized melody, rabbits wowed the crowd with their juggling skills, and even the timid deer surprised everyone with an elegant ballet performance.\\n\\nBumbles, who had acted as the comedic host throughout the show, had the entire forest in stitches with his silly antics and jokes. Laughter echoed through the trees, creating a joyous atmosphere. The talent show had brought the forest together like never before, fostering new friendships and creating unforgettable memories.\\n\\nAs the sun set on the talent show, Bumbles realized that his mission to bring laughter to the forest had been fulfilled. He had not only discovered his own purpose but had also brought happiness to those around him. The end of the story marked the beginning of a new chapter in the enchanted forest, where laughter reigned supreme.\\n\\nAnd so, our comedic tale concludes with Bumbles the bear, forever known as the bringer of laughter, as he continued to spread joy and merriment throughout the forest, leaving a trail of chuckles and mirth wherever he went.\"\n",
      "      },\n",
      "      \"finish_reason\": \"stop\"\n",
      "    }\n",
      "  ],\n",
      "  \"usage\": {\n",
      "    \"prompt_tokens\": 129,\n",
      "    \"completion_tokens\": 499,\n",
      "    \"total_tokens\": 628\n",
      "  }\n",
      "}\n"
     ]
    }
   ],
   "source": [
    "import openai\n",
    "\n",
    "models = openai.Model.list()\n",
    "mlist = (model.id for model in models.data)\n",
    "model = \"gpt-3.5-turbo-16k\"  # until I get my invite to gpt-4\n",
    "\n",
    "chat_completion = openai.ChatCompletion.create(\n",
    "    model=model,\n",
    "    messages=[\n",
    "        {\n",
    "            \"role\": \"system\",\n",
    "            \"content\": (\n",
    "                f\"You help authors iterate on their stories, starting from just an idea \"\n",
    "                f\"through a complete story. Do not generate the story immediately. Before \"\n",
    "                f\"you start generating content you must understand the tone and structure of the story. \"\n",
    "                \"Ask clarifying questions to ensure you are writing the way the user wants you to, and then \"\n",
    "                \"generate the story.\\n\"\n",
    "                f\"Human: Write a story about a bear.\\n\"\n",
    "                \"System: What genre is the story?\\n\"\n",
    "                \"Human: Fantasy\\n\"\n",
    "                \"System: What is the tone of the story?\\n\"\n",
    "                \"Human: Comedic\\n\"\n",
    "                \"System: What is the structure of the story?\\n\"\n",
    "                \"Human: Beginning, middle, and end\\n\"\n",
    "                \"System: \\n\"\n",
    "            ),\n",
    "        },\n",
    "    ],\n",
    ")\n",
    "\n",
    "print(chat_completion)"
   ]
  }
 ],
 "metadata": {
  "kernelspec": {
   "display_name": "openai-playground",
   "language": "python",
   "name": "openai-playground"
  },
  "language_info": {
   "codemirror_mode": {
    "name": "ipython",
    "version": 3
   },
   "file_extension": ".py",
   "mimetype": "text/x-python",
   "name": "python",
   "nbconvert_exporter": "python",
   "pygments_lexer": "ipython3",
   "version": "3.10.12"
  },
  "orig_nbformat": 4
 },
 "nbformat": 4,
 "nbformat_minor": 2
}
