{
   "cells": [
      {
         "cell_type": "code",
         "execution_count": null,
         "metadata": {},
         "outputs": [],
         "source": [
            "%set_env OPENAI_API_KEY=\"\"\n",
            "\n",
            "from griptape.memory.structure import ConversationMemory\n",
            "from griptape.memory.tool import TextToolMemory, BlobToolMemory\n",
            "from griptape.structures import Pipeline\n",
            "from griptape.tasks import ToolkitTask, PromptTask\n",
            "from griptape.tools import WebScraper, FileManager\n",
            "import griptape.drivers\n",
            "\n",
            "griptape.drivers.\n",
            "\n",
            "# Tool memory enables LLMs to store and manipulate data\n",
            "# without ever looking at it directly.\n",
            "text_memory = TextToolMemory()\n",
            "blob_memory = BlobToolMemory()\n",
            "\n",
            "# Connect a web scraper to load web pages.\n",
            "web_scraper = WebScraper(output_memory={\"get_content\": [text_memory]})\n",
            "\n",
            "# File manager can load and store files locally.\n",
            "file_manager = FileManager(\n",
            "    input_memory=text_memory, output_memory={\"load_files_from_disk\": [blob_memory]}\n",
            ")\n",
            "\n",
            "# Pipelines represent sequences of tasks.\n",
            "pipeline = Pipeline(memory=ConversationMemory())\n",
            "\n",
            "pipeline.add_tasks(\n",
            "    # Load up the first argument from `pipeline.run`.\n",
            "    ToolkitTask(\"{{ args[0] }}\", tools=[web_scraper, file_manager]),\n",
            "    # Augment `input` from the previous task.\n",
            "    PromptTask(\"Say the following in spanish: {{ input }}\"),\n",
            ")\n",
            "\n",
            "pipeline.run(\"Load https://www.griptape.ai, summarize it, and store it in griptape.txt\")"
         ]
      }
   ],
   "metadata": {
      "kernelspec": {
         "display_name": "openai-playground",
         "language": "python",
         "name": "openai-playground"
      },
      "orig_nbformat": 4
   },
   "nbformat": 4,
   "nbformat_minor": 2
}
