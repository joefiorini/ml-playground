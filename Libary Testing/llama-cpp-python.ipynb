{
 "cells": [
  {
   "cell_type": "code",
   "execution_count": 4,
   "metadata": {},
   "outputs": [
    {
     "name": "stdout",
     "output_type": "stream",
     "text": [
      "False\n",
      "True\n",
      "Querying models/TheBloke_guanaco-65B-GGML/guanaco-65B.ggmlv3.q4_0.bin...\n"
     ]
    },
    {
     "name": "stderr",
     "output_type": "stream",
     "text": [
      "llama.cpp: loading model from models/TheBloke_guanaco-65B-GGML/guanaco-65B.ggmlv3.q4_0.bin\n",
      "llama_model_load_internal: format     = ggjt v3 (latest)\n",
      "llama_model_load_internal: n_vocab    = 32000\n",
      "llama_model_load_internal: n_ctx      = 512\n",
      "llama_model_load_internal: n_embd     = 8192\n",
      "llama_model_load_internal: n_mult     = 256\n",
      "llama_model_load_internal: n_head     = 64\n",
      "llama_model_load_internal: n_layer    = 80\n",
      "llama_model_load_internal: n_rot      = 128\n",
      "llama_model_load_internal: ftype      = 2 (mostly Q4_0)\n",
      "llama_model_load_internal: n_ff       = 22016\n",
      "llama_model_load_internal: n_parts    = 1\n",
      "llama_model_load_internal: model size = 65B\n",
      "llama_model_load_internal: ggml ctx size =    0.18 MB\n",
      "llama_model_load_internal: mem required  = 38610.46 MB (+ 5120.00 MB per state)\n",
      "llama_new_context_with_model: kv self size  = 1280.00 MB\n",
      "AVX = 1 | AVX2 = 1 | AVX512 = 0 | AVX512_VBMI = 0 | AVX512_VNNI = 0 | FMA = 1 | NEON = 0 | ARM_FMA = 0 | F16C = 1 | FP16_VA = 0 | WASM_SIMD = 0 | BLAS = 0 | SSE3 = 1 | VSX = 0 | \n",
      "\n",
      "llama_print_timings:        load time =  4717.32 ms\n",
      "llama_print_timings:      sample time =    59.51 ms /    58 runs   (    1.03 ms per token,   974.63 tokens per second)\n",
      "llama_print_timings: prompt eval time =  4717.27 ms /     2 tokens ( 2358.63 ms per token,     0.42 tokens per second)\n",
      "llama_print_timings:        eval time = 143985.80 ms /    57 runs   ( 2526.07 ms per token,     0.40 tokens per second)\n",
      "llama_print_timings:       total time = 148985.83 ms\n"
     ]
    },
    {
     "name": "stdout",
     "output_type": "stream",
     "text": [
      "{'id': 'cmpl-10fefe42-a46b-412c-931c-cfd78b091e74', 'object': 'text_completion', 'created': 1688155228, 'model': 'models/TheBloke_guanaco-65B-GGML/guanaco-65B.ggmlv3.q4_0.bin', 'choices': [{'text': \" everyone, I'm a new member and new to the hobby. i am looking for a place in my apartment that is suitable to start off a shrimp tank (40 gal) what would be a good way to test PH and temp of water?\", 'index': 0, 'logprobs': None, 'finish_reason': 'stop'}], 'usage': {'prompt_tokens': 2, 'completion_tokens': 57, 'total_tokens': 59}}\n"
     ]
    }
   ],
   "source": [
    "import os\n",
    "\n",
    "models = [\n",
    "    \"models/TheBloke_guanaco-65B-GGML/guanaco-65B.ggmlv3.q4_0.bin\",\n",
    "    \"models/TheBloke_guanaco-65B-GGML/guanaco-65B.ggmlv3.q4_1.bin\",\n",
    "    \"models/TheBloke_starchat-beta-GGML/starchat-beta.ggmlv3.q4_0.bin\",\n",
    "    \"models/TheBloke_starchat-beta-GGML/starchat-beta.ggmlv3.q4_1.bin\",\n",
    "    \"models/TheBloke_starchat-beta-GGML/starchat-beta.ggmlv3.q5_0.bin\",\n",
    "    \"models/TheBloke_starchat-beta-GGML/starchat-beta.ggmlv3.q5_1.bin\",\n",
    "    \"models/TheBloke_starchat-beta-GGML/starchat-beta.ggmlv3.q8_0.bin\",\n",
    "]\n",
    "\n",
    "from pathlib import Path\n",
    "\n",
    "from sys import path\n",
    "from llama_cpp import Llama, GGML_USE_CUBLAS\n",
    "\n",
    "print(GGML_USE_CUBLAS)\n",
    "\n",
    "import torch\n",
    "\n",
    "print(torch.cuda.is_available())\n",
    "\n",
    "\n",
    "## use llama-cpp-python to load a model and query it\n",
    "def query(model, query):\n",
    "    # load model\n",
    "    model = Path(model)\n",
    "    if not model.exists():\n",
    "        raise FileNotFoundError(model)\n",
    "    llama = Llama(str(model))\n",
    "    # query\n",
    "    return llama(query)\n",
    "\n",
    "\n",
    "## query all models\n",
    "model = models[0]\n",
    "print(f\"Querying {model}...\")\n",
    "print(query(model, \"hello\"))\n",
    "\n",
    "\n",
    "# resolved_model_path = Path(models[2]).resolve().as_posix()\n",
    "# llm = Llama(model_path=resolved_model_path)\n",
    "# output = llm(\n",
    "#     \"Q: Name the planets in the solar system? A: \",\n",
    "#     max_tokens=32,\n",
    "#     stop=[\"Q:\", \"\\n\"],\n",
    "#     echo=True,\n",
    "# )\n",
    "\n",
    "# print(output)"
   ]
  }
 ],
 "metadata": {
  "kernelspec": {
   "display_name": "openai-playground",
   "language": "python",
   "name": "openai-playground"
  },
  "language_info": {
   "codemirror_mode": {
    "name": "ipython",
    "version": 3
   },
   "file_extension": ".py",
   "mimetype": "text/x-python",
   "name": "python",
   "nbconvert_exporter": "python",
   "pygments_lexer": "ipython3",
   "version": "3.10.12"
  },
  "orig_nbformat": 4
 },
 "nbformat": 4,
 "nbformat_minor": 2
}
